{
 "cells": [
  {
   "cell_type": "code",
   "execution_count": null,
   "id": "708ad6a2-883b-4b7d-8c05-b6e7e8d43185",
   "metadata": {},
   "outputs": [],
   "source": [
    "#Given an integer array nums, return true if any value appears at least twice in the array, and return false if every element is distinct.\n"
   ]
  },
  {
   "cell_type": "code",
   "execution_count": null,
   "id": "21aed7ac-e9d2-48da-bb5d-a0cac3e9cc8c",
   "metadata": {},
   "outputs": [],
   "source": [
    "class Solution:\n",
    "    def containsDuplicate(self, nums: List[int]) -> bool:\n",
    "        return len(nums) != len(set(nums))\n",
    "        '''\n",
    "        hashSet = set()\n",
    "        \n",
    "        for num in nums:\n",
    "            if num in hashSet:\n",
    "                return True\n",
    "            hashSet.add(num)\n",
    "        return False\n",
    "          '''"
   ]
  }
 ],
 "metadata": {
  "kernelspec": {
   "display_name": "Python 3 (ipykernel)",
   "language": "python",
   "name": "python3"
  },
  "language_info": {
   "codemirror_mode": {
    "name": "ipython",
    "version": 3
   },
   "file_extension": ".py",
   "mimetype": "text/x-python",
   "name": "python",
   "nbconvert_exporter": "python",
   "pygments_lexer": "ipython3",
   "version": "3.12.4"
  }
 },
 "nbformat": 4,
 "nbformat_minor": 5
}
