{
 "cells": [
  {
   "cell_type": "code",
   "execution_count": 1,
   "id": "65fe914e-d02c-403c-9bc2-dbcee7f76a5a",
   "metadata": {},
   "outputs": [],
   "source": [
    "#list\n",
    "myList = [1,2,3,4,5]"
   ]
  },
  {
   "cell_type": "code",
   "execution_count": 5,
   "id": "478169dd-8466-4179-9a64-0e6634d3f85c",
   "metadata": {},
   "outputs": [
    {
     "data": {
      "text/plain": [
       "list"
      ]
     },
     "execution_count": 5,
     "metadata": {},
     "output_type": "execute_result"
    }
   ],
   "source": [
    "type(myList)"
   ]
  },
  {
   "cell_type": "code",
   "execution_count": 7,
   "id": "e2982d61-e56e-42bc-97f5-51102fb91c8d",
   "metadata": {},
   "outputs": [],
   "source": [
    "myList = []"
   ]
  },
  {
   "cell_type": "code",
   "execution_count": 9,
   "id": "6e05d0ff-6cb9-482c-9a70-4685bb63d0d2",
   "metadata": {},
   "outputs": [],
   "source": [
    "myList.append(1)"
   ]
  },
  {
   "cell_type": "code",
   "execution_count": 11,
   "id": "a94ce9b7-6c26-4ac2-8bb8-3f7bd9f1dd2b",
   "metadata": {},
   "outputs": [
    {
     "data": {
      "text/plain": [
       "[1]"
      ]
     },
     "execution_count": 11,
     "metadata": {},
     "output_type": "execute_result"
    }
   ],
   "source": [
    "myList"
   ]
  },
  {
   "cell_type": "code",
   "execution_count": 15,
   "id": "12503b5e-a430-40bf-96bf-cb87a17ee07a",
   "metadata": {},
   "outputs": [],
   "source": [
    "import array as arr"
   ]
  },
  {
   "cell_type": "code",
   "execution_count": 17,
   "id": "ddef677c-ff78-4873-b4bc-6c05624d239f",
   "metadata": {},
   "outputs": [],
   "source": [
    "myArray = arr.array(\"i\", [3, 6, 9, 12])"
   ]
  },
  {
   "cell_type": "code",
   "execution_count": 19,
   "id": "1b74a820-dfcc-4221-9740-973fbc96cdfa",
   "metadata": {},
   "outputs": [],
   "source": [
    "myArray.append(15)"
   ]
  },
  {
   "cell_type": "code",
   "execution_count": 21,
   "id": "769278f1-9ef4-4391-a179-f60d475e4c45",
   "metadata": {},
   "outputs": [
    {
     "data": {
      "text/plain": [
       "array('i', [3, 6, 9, 12, 15])"
      ]
     },
     "execution_count": 21,
     "metadata": {},
     "output_type": "execute_result"
    }
   ],
   "source": [
    "myArray"
   ]
  },
  {
   "cell_type": "code",
   "execution_count": 23,
   "id": "67ba05d9-ef82-4ef6-ac1b-2e74f87e32f6",
   "metadata": {},
   "outputs": [],
   "source": [
    "myList = [1,2,3,4,5]"
   ]
  },
  {
   "cell_type": "code",
   "execution_count": 25,
   "id": "45021887-0026-4cca-9824-f5e906846c81",
   "metadata": {},
   "outputs": [],
   "source": [
    "otherList = [6,7,8]"
   ]
  },
  {
   "cell_type": "code",
   "execution_count": 27,
   "id": "7c1d8ed1-a493-40ca-9a0e-7bc91d3dc3aa",
   "metadata": {},
   "outputs": [],
   "source": [
    "myList.extend(otherList)"
   ]
  },
  {
   "cell_type": "code",
   "execution_count": 29,
   "id": "d9ab42c1-8903-4880-a388-33c9beadf4cb",
   "metadata": {},
   "outputs": [
    {
     "data": {
      "text/plain": [
       "[1, 2, 3, 4, 5, 6, 7, 8]"
      ]
     },
     "execution_count": 29,
     "metadata": {},
     "output_type": "execute_result"
    }
   ],
   "source": [
    "myList"
   ]
  },
  {
   "cell_type": "code",
   "execution_count": 31,
   "id": "803587f7-2cdb-4598-8f68-ee0babd1d641",
   "metadata": {},
   "outputs": [],
   "source": [
    "result = [0] * 8"
   ]
  },
  {
   "cell_type": "code",
   "execution_count": 33,
   "id": "56b14f5a-41d9-41d2-a248-a481e0de4573",
   "metadata": {},
   "outputs": [
    {
     "data": {
      "text/plain": [
       "[0, 0, 0, 0, 0, 0, 0, 0]"
      ]
     },
     "execution_count": 33,
     "metadata": {},
     "output_type": "execute_result"
    }
   ],
   "source": [
    "result"
   ]
  },
  {
   "cell_type": "code",
   "execution_count": 35,
   "id": "cf389c9d-9a4f-4797-a8a2-4bcf8a516aeb",
   "metadata": {},
   "outputs": [
    {
     "data": {
      "text/plain": [
       "list"
      ]
     },
     "execution_count": 35,
     "metadata": {},
     "output_type": "execute_result"
    }
   ],
   "source": [
    "type(result)"
   ]
  },
  {
   "cell_type": "code",
   "execution_count": 37,
   "id": "7d0d258d-afc2-43dd-9a8f-192768f7d97b",
   "metadata": {},
   "outputs": [],
   "source": [
    "result[3] = 2"
   ]
  },
  {
   "cell_type": "code",
   "execution_count": 39,
   "id": "f03ffbc7-1280-48aa-99f9-c562a4757217",
   "metadata": {},
   "outputs": [
    {
     "data": {
      "text/plain": [
       "[0, 0, 0, 2, 0, 0, 0, 0]"
      ]
     },
     "execution_count": 39,
     "metadata": {},
     "output_type": "execute_result"
    }
   ],
   "source": [
    "result"
   ]
  },
  {
   "cell_type": "code",
   "execution_count": 41,
   "id": "2d6e6b6c-0b6f-4e4a-8bf4-89bdde8c787f",
   "metadata": {},
   "outputs": [],
   "source": [
    "import sys"
   ]
  },
  {
   "cell_type": "code",
   "execution_count": 43,
   "id": "e7b83883-f961-4bca-a37e-5321aeb05d85",
   "metadata": {},
   "outputs": [
    {
     "name": "stdout",
     "output_type": "stream",
     "text": [
      "Length: 0 Byte: 56\n",
      "Length: 1 Byte: 88\n",
      "Length: 2 Byte: 88\n",
      "Length: 3 Byte: 88\n",
      "Length: 4 Byte: 88\n",
      "Length: 5 Byte: 120\n",
      "Length: 6 Byte: 120\n",
      "Length: 7 Byte: 120\n",
      "Length: 8 Byte: 120\n",
      "Length: 9 Byte: 184\n",
      "Length: 10 Byte: 184\n",
      "Length: 11 Byte: 184\n",
      "Length: 12 Byte: 184\n",
      "Length: 13 Byte: 184\n",
      "Length: 14 Byte: 184\n",
      "Length: 15 Byte: 184\n",
      "Length: 16 Byte: 184\n",
      "Length: 17 Byte: 248\n",
      "Length: 18 Byte: 248\n",
      "Length: 19 Byte: 248\n",
      "Length: 20 Byte: 248\n",
      "Length: 21 Byte: 248\n",
      "Length: 22 Byte: 248\n",
      "Length: 23 Byte: 248\n",
      "Length: 24 Byte: 248\n",
      "Length: 25 Byte: 312\n",
      "Length: 26 Byte: 312\n",
      "Length: 27 Byte: 312\n",
      "Length: 28 Byte: 312\n",
      "Length: 29 Byte: 312\n"
     ]
    }
   ],
   "source": [
    "n = 30\n",
    "myDynamicArray = []\n",
    "\n",
    "for i in range(0,n):\n",
    "    \n",
    "    myLength = len(myDynamicArray)\n",
    "    myByte = sys.getsizeof(myDynamicArray)\n",
    "    print(f\"Length: {myLength} Byte: {myByte}\")\n",
    "    myDynamicArray.append(n)"
   ]
  },
  {
   "cell_type": "code",
   "execution_count": null,
   "id": "bd1d98cf-110b-4335-98b2-d3d15201c4d2",
   "metadata": {},
   "outputs": [],
   "source": []
  }
 ],
 "metadata": {
  "kernelspec": {
   "display_name": "Python 3 (ipykernel)",
   "language": "python",
   "name": "python3"
  },
  "language_info": {
   "codemirror_mode": {
    "name": "ipython",
    "version": 3
   },
   "file_extension": ".py",
   "mimetype": "text/x-python",
   "name": "python",
   "nbconvert_exporter": "python",
   "pygments_lexer": "ipython3",
   "version": "3.12.4"
  }
 },
 "nbformat": 4,
 "nbformat_minor": 5
}
