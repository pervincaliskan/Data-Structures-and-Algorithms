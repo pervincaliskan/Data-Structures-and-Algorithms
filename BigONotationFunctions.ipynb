{
 "cells": [
  {
   "cell_type": "code",
   "execution_count": 1,
   "id": "6da2a8a2-dc07-46d0-a027-9973f2f7b86e",
   "metadata": {},
   "outputs": [],
   "source": [
    "def bigon(n):\n",
    "    for i in range(0,n):\n",
    "        print(i)"
   ]
  },
  {
   "cell_type": "code",
   "execution_count": 3,
   "id": "df90c9e3-459b-4583-a359-150b67d91728",
   "metadata": {},
   "outputs": [
    {
     "name": "stdout",
     "output_type": "stream",
     "text": [
      "0\n",
      "1\n",
      "2\n",
      "3\n",
      "4\n"
     ]
    }
   ],
   "source": [
    "bigon(5)"
   ]
  },
  {
   "cell_type": "code",
   "execution_count": 5,
   "id": "5c2f85cd-4722-41d0-ac50-c0ae53c61ba6",
   "metadata": {},
   "outputs": [],
   "source": [
    "def bigon2(n): #n^2( n kare)\n",
    "    for i in range(0,n):\n",
    "        for j in range(0,n):\n",
    "            print(i,j)"
   ]
  },
  {
   "cell_type": "code",
   "execution_count": 7,
   "id": "19120bcc-4f7c-4c22-a759-e553a6d298ff",
   "metadata": {},
   "outputs": [
    {
     "name": "stdout",
     "output_type": "stream",
     "text": [
      "0 0\n",
      "0 1\n",
      "0 2\n",
      "0 3\n",
      "0 4\n",
      "1 0\n",
      "1 1\n",
      "1 2\n",
      "1 3\n",
      "1 4\n",
      "2 0\n",
      "2 1\n",
      "2 2\n",
      "2 3\n",
      "2 4\n",
      "3 0\n",
      "3 1\n",
      "3 2\n",
      "3 3\n",
      "3 4\n",
      "4 0\n",
      "4 1\n",
      "4 2\n",
      "4 3\n",
      "4 4\n"
     ]
    }
   ],
   "source": [
    "bigon2(5)"
   ]
  },
  {
   "cell_type": "code",
   "execution_count": 11,
   "id": "6b65ee6a-b7da-436c-a5ce-13455db6f525",
   "metadata": {},
   "outputs": [],
   "source": [
    "def bigon3(n): #n^3\n",
    "    for i in range(0,n):\n",
    "        for j in range(0,n):\n",
    "            for k in range(0,n):\n",
    "                print(i,j,k)"
   ]
  },
  {
   "cell_type": "code",
   "execution_count": 13,
   "id": "365ea883-032e-4e32-91d8-16abca0ba0d9",
   "metadata": {},
   "outputs": [
    {
     "name": "stdout",
     "output_type": "stream",
     "text": [
      "0 0 0\n",
      "0 0 1\n",
      "0 0 2\n",
      "0 0 3\n",
      "0 0 4\n",
      "0 1 0\n",
      "0 1 1\n",
      "0 1 2\n",
      "0 1 3\n",
      "0 1 4\n",
      "0 2 0\n",
      "0 2 1\n",
      "0 2 2\n",
      "0 2 3\n",
      "0 2 4\n",
      "0 3 0\n",
      "0 3 1\n",
      "0 3 2\n",
      "0 3 3\n",
      "0 3 4\n",
      "0 4 0\n",
      "0 4 1\n",
      "0 4 2\n",
      "0 4 3\n",
      "0 4 4\n",
      "1 0 0\n",
      "1 0 1\n",
      "1 0 2\n",
      "1 0 3\n",
      "1 0 4\n",
      "1 1 0\n",
      "1 1 1\n",
      "1 1 2\n",
      "1 1 3\n",
      "1 1 4\n",
      "1 2 0\n",
      "1 2 1\n",
      "1 2 2\n",
      "1 2 3\n",
      "1 2 4\n",
      "1 3 0\n",
      "1 3 1\n",
      "1 3 2\n",
      "1 3 3\n",
      "1 3 4\n",
      "1 4 0\n",
      "1 4 1\n",
      "1 4 2\n",
      "1 4 3\n",
      "1 4 4\n",
      "2 0 0\n",
      "2 0 1\n",
      "2 0 2\n",
      "2 0 3\n",
      "2 0 4\n",
      "2 1 0\n",
      "2 1 1\n",
      "2 1 2\n",
      "2 1 3\n",
      "2 1 4\n",
      "2 2 0\n",
      "2 2 1\n",
      "2 2 2\n",
      "2 2 3\n",
      "2 2 4\n",
      "2 3 0\n",
      "2 3 1\n",
      "2 3 2\n",
      "2 3 3\n",
      "2 3 4\n",
      "2 4 0\n",
      "2 4 1\n",
      "2 4 2\n",
      "2 4 3\n",
      "2 4 4\n",
      "3 0 0\n",
      "3 0 1\n",
      "3 0 2\n",
      "3 0 3\n",
      "3 0 4\n",
      "3 1 0\n",
      "3 1 1\n",
      "3 1 2\n",
      "3 1 3\n",
      "3 1 4\n",
      "3 2 0\n",
      "3 2 1\n",
      "3 2 2\n",
      "3 2 3\n",
      "3 2 4\n",
      "3 3 0\n",
      "3 3 1\n",
      "3 3 2\n",
      "3 3 3\n",
      "3 3 4\n",
      "3 4 0\n",
      "3 4 1\n",
      "3 4 2\n",
      "3 4 3\n",
      "3 4 4\n",
      "4 0 0\n",
      "4 0 1\n",
      "4 0 2\n",
      "4 0 3\n",
      "4 0 4\n",
      "4 1 0\n",
      "4 1 1\n",
      "4 1 2\n",
      "4 1 3\n",
      "4 1 4\n",
      "4 2 0\n",
      "4 2 1\n",
      "4 2 2\n",
      "4 2 3\n",
      "4 2 4\n",
      "4 3 0\n",
      "4 3 1\n",
      "4 3 2\n",
      "4 3 3\n",
      "4 3 4\n",
      "4 4 0\n",
      "4 4 1\n",
      "4 4 2\n",
      "4 4 3\n",
      "4 4 4\n"
     ]
    }
   ],
   "source": [
    "bigon3(5)"
   ]
  },
  {
   "cell_type": "code",
   "execution_count": 2,
   "id": "ab780784-3ec1-410e-b71f-ac4e2dc09c5e",
   "metadata": {},
   "outputs": [],
   "source": [
    "import math\n",
    "def logn(n):\n",
    "    while n > 1:\n",
    "        n = math.floor(n/2)\n",
    "        print(n)"
   ]
  },
  {
   "cell_type": "code",
   "execution_count": 4,
   "id": "d3ffcbe1-c71f-445d-937e-ea66dc42aa47",
   "metadata": {},
   "outputs": [
    {
     "name": "stdout",
     "output_type": "stream",
     "text": [
      "4\n",
      "2\n",
      "1\n"
     ]
    }
   ],
   "source": [
    "logn(8)"
   ]
  },
  {
   "cell_type": "code",
   "execution_count": 6,
   "id": "8f7d699c-cf2e-492d-a106-fb2b338732c9",
   "metadata": {},
   "outputs": [],
   "source": [
    "def nlogn(n):\n",
    "    lim = n\n",
    "    while n > 1:\n",
    "        n = math.floor(n/2)\n",
    "        for i in range(1,lim):\n",
    "            print(i)"
   ]
  },
  {
   "cell_type": "code",
   "execution_count": 10,
   "id": "c818e9d7-cc30-4390-bc95-6f3aa93a10b3",
   "metadata": {},
   "outputs": [
    {
     "name": "stdout",
     "output_type": "stream",
     "text": [
      "1\n",
      "2\n",
      "3\n",
      "4\n",
      "5\n",
      "6\n",
      "7\n",
      "8\n",
      "9\n",
      "10\n",
      "11\n",
      "12\n",
      "13\n",
      "14\n",
      "15\n",
      "1\n",
      "2\n",
      "3\n",
      "4\n",
      "5\n",
      "6\n",
      "7\n",
      "8\n",
      "9\n",
      "10\n",
      "11\n",
      "12\n",
      "13\n",
      "14\n",
      "15\n",
      "1\n",
      "2\n",
      "3\n",
      "4\n",
      "5\n",
      "6\n",
      "7\n",
      "8\n",
      "9\n",
      "10\n",
      "11\n",
      "12\n",
      "13\n",
      "14\n",
      "15\n",
      "1\n",
      "2\n",
      "3\n",
      "4\n",
      "5\n",
      "6\n",
      "7\n",
      "8\n",
      "9\n",
      "10\n",
      "11\n",
      "12\n",
      "13\n",
      "14\n",
      "15\n"
     ]
    }
   ],
   "source": [
    "nlogn(16)"
   ]
  },
  {
   "cell_type": "code",
   "execution_count": 12,
   "id": "640e7406-0988-4ca5-a298-6add135a4db8",
   "metadata": {},
   "outputs": [],
   "source": [
    "def nfactorial(n):\n",
    "    if n == 0:\n",
    "        print(\"1\")\n",
    "        return\n",
    "    else:\n",
    "        for i in range(0,n):\n",
    "            print(i)\n",
    "            nfactorial(n-1) #RECURSIVE"
   ]
  },
  {
   "cell_type": "code",
   "execution_count": 14,
   "id": "6a95f24d-5aba-4171-9706-0206004dc09f",
   "metadata": {},
   "outputs": [
    {
     "name": "stdout",
     "output_type": "stream",
     "text": [
      "0\n",
      "0\n",
      "0\n",
      "1\n",
      "1\n",
      "0\n",
      "1\n",
      "1\n",
      "0\n",
      "0\n",
      "1\n",
      "1\n",
      "0\n",
      "1\n",
      "2\n",
      "0\n",
      "0\n",
      "1\n",
      "1\n",
      "0\n",
      "1\n"
     ]
    }
   ],
   "source": [
    "nfactorial(3)"
   ]
  },
  {
   "cell_type": "code",
   "execution_count": 16,
   "id": "ed3aec13-6514-4351-bf93-d4cb21a05fe8",
   "metadata": {},
   "outputs": [],
   "source": [
    "def twotonfibonacci(n):\n",
    "    if n == 0:\n",
    "        return 0\n",
    "    elif n == 1:\n",
    "        return 1\n",
    "    return twotonfibonacci(n-1) + twotonfibonacci(n-2)"
   ]
  },
  {
   "cell_type": "code",
   "execution_count": 18,
   "id": "23c272d3-0ffb-4657-a9fb-71bf9f68a8ad",
   "metadata": {},
   "outputs": [
    {
     "data": {
      "text/plain": [
       "34"
      ]
     },
     "execution_count": 18,
     "metadata": {},
     "output_type": "execute_result"
    }
   ],
   "source": [
    "twotonfibonacci(9)"
   ]
  },
  {
   "cell_type": "code",
   "execution_count": 26,
   "id": "705881db-695c-4fce-a862-e92c0d516629",
   "metadata": {},
   "outputs": [],
   "source": [
    "counter = 0\n",
    "def actualFactorial(n):\n",
    "    global counter\n",
    "    counter += 1\n",
    "    print(counter)\n",
    "    if (n==1 or n==0):\n",
    "        return 1\n",
    "    else:\n",
    "        return (n * actualFactorial(n - 1))"
   ]
  },
  {
   "cell_type": "code",
   "execution_count": 28,
   "id": "58c77990-3ead-43d6-8060-3f178f7523f4",
   "metadata": {},
   "outputs": [
    {
     "name": "stdout",
     "output_type": "stream",
     "text": [
      "1\n",
      "2\n",
      "3\n"
     ]
    },
    {
     "data": {
      "text/plain": [
       "6"
      ]
     },
     "execution_count": 28,
     "metadata": {},
     "output_type": "execute_result"
    }
   ],
   "source": [
    "actualFactorial(3)"
   ]
  },
  {
   "cell_type": "code",
   "execution_count": null,
   "id": "43c15de8-0096-419f-8581-02c8b78cddcf",
   "metadata": {},
   "outputs": [],
   "source": []
  }
 ],
 "metadata": {
  "kernelspec": {
   "display_name": "Python 3 (ipykernel)",
   "language": "python",
   "name": "python3"
  },
  "language_info": {
   "codemirror_mode": {
    "name": "ipython",
    "version": 3
   },
   "file_extension": ".py",
   "mimetype": "text/x-python",
   "name": "python",
   "nbconvert_exporter": "python",
   "pygments_lexer": "ipython3",
   "version": "3.12.4"
  }
 },
 "nbformat": 4,
 "nbformat_minor": 5
}
